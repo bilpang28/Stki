{
  "nbformat": 4,
  "nbformat_minor": 0,
  "metadata": {
    "colab": {
      "provenance": [],
      "include_colab_link": true
    },
    "kernelspec": {
      "name": "python3",
      "display_name": "Python 3"
    },
    "language_info": {
      "name": "python"
    }
  },
  "cells": [
    {
      "cell_type": "markdown",
      "metadata": {
        "id": "view-in-github",
        "colab_type": "text"
      },
      "source": [
        "<a href=\"https://colab.research.google.com/github/bilpang28/AMAZON_AI_AND_ML/blob/main/STKI.ipynb\" target=\"_parent\"><img src=\"https://colab.research.google.com/assets/colab-badge.svg\" alt=\"Open In Colab\"/></a>"
      ]
    },
    {
      "cell_type": "markdown",
      "source": [
        "**Inisialisasi Program**\n",
        "\n",
        "Pada program ini memvisualisasikan hasil prediksi pada peta atau melibatkan data spasial dari data local yang diinputkan dalam code. Sebelum melakukan pencodingan maka lakukan installasi environment seperti berikut ini:"
      ],
      "metadata": {
        "id": "UEomoRU7yRZG"
      }
    },
    {
      "cell_type": "code",
      "source": [
        "!pip install pandas numpy"
      ],
      "metadata": {
        "id": "sjkjw5_MzRGm",
        "colab": {
          "base_uri": "https://localhost:8080/"
        },
        "outputId": "a0019146-614d-447c-a4c0-fa78ebc3c869"
      },
      "execution_count": 298,
      "outputs": [
        {
          "output_type": "stream",
          "name": "stdout",
          "text": [
            "Requirement already satisfied: pandas in /usr/local/lib/python3.10/dist-packages (1.5.3)\n",
            "Requirement already satisfied: numpy in /usr/local/lib/python3.10/dist-packages (1.23.5)\n",
            "Requirement already satisfied: python-dateutil>=2.8.1 in /usr/local/lib/python3.10/dist-packages (from pandas) (2.8.2)\n",
            "Requirement already satisfied: pytz>=2020.1 in /usr/local/lib/python3.10/dist-packages (from pandas) (2023.3.post1)\n",
            "Requirement already satisfied: six>=1.5 in /usr/local/lib/python3.10/dist-packages (from python-dateutil>=2.8.1->pandas) (1.16.0)\n"
          ]
        }
      ]
    },
    {
      "cell_type": "code",
      "source": [
        "import pandas as pd\n",
        "import numpy as np"
      ],
      "metadata": {
        "id": "Jx0dWjxj1g-Q"
      },
      "execution_count": 299,
      "outputs": []
    },
    {
      "cell_type": "markdown",
      "source": [
        "# Input Data dan Ekstraksi Data\n",
        "\n",
        "Setelah import semua library yang digunakan kemudian masukkan data secara lokal dengan daftar sebagai berikut :\n",
        "1. daerah berisi nama daerah dari tarakan, bulungan, tanatidung\n",
        "2. TPS berisi data jumlah tps di tarakan, bulungan, tanatidung\n",
        "3. DPT berisi data jumlah dpt di setiap daerah di kalimantan utara\n",
        "4. cadangan dpt 2 % ini adalah data yang digunakan untuk memastikan bahwa jika kekurangan dpt akan ditambahkan kedalam DPT yang kekurangan\n",
        "5. suara, dataset ini adalah jumlah suara yang terkumpul dari hasil pengumpulan pencoblosan disetiap daerah di kalimantan utara\n",
        "6. latitude digunakan untuk menentukan garis lintang dari daerah kalimantan utara\n",
        "7. longitude adalah yang digunakan untuk menarik garis bujur daerah kalimantan utara"
      ],
      "metadata": {
        "id": "wk9XoE3hvYiv"
      }
    },
    {
      "cell_type": "code",
      "source": [
        "data = {\n",
        "    'Daerah': ['Tarakan', 'Bulungan', 'Tanatidung'],\n",
        "    'Tps': [628, 436, 73],\n",
        "    'Dpt': [154264, 95633, 14968],\n",
        "    'cadangan_Dpt': [3335, 2112, 330],\n",
        "    'Jumlah_Suara': [157599, 97745, 15298],\n",
        "    'Latitude': np.random.uniform(-0.5, 0.5, 3) + 0.5,\n",
        "    'Longitude': np.random.uniform(117591, 116985, 3),\n",
        "    'Target_Value': np.random.rand(3),\n",
        "}"
      ],
      "metadata": {
        "id": "glAmV4Kq2WET"
      },
      "execution_count": 300,
      "outputs": []
    },
    {
      "cell_type": "code",
      "source": [
        "df = pd.DataFrame(data)\n",
        "print(df)"
      ],
      "metadata": {
        "colab": {
          "base_uri": "https://localhost:8080/"
        },
        "id": "XrqjtQvQl-4D",
        "outputId": "ecd21767-1709-4310-89eb-ada93521bd7c"
      },
      "execution_count": 301,
      "outputs": [
        {
          "output_type": "stream",
          "name": "stdout",
          "text": [
            "       Daerah  Tps     Dpt  cadangan_Dpt  Jumlah_Suara  Latitude  \\\n",
            "0     Tarakan  628  154264          3335        157599  0.374540   \n",
            "1    Bulungan  436   95633          2112         97745  0.950714   \n",
            "2  Tanatidung   73   14968           330         15298  0.731994   \n",
            "\n",
            "       Longitude  Target_Value  \n",
            "0  117228.212959      0.058084  \n",
            "1  117496.452704      0.866176  \n",
            "2  117496.467321      0.601115  \n"
          ]
        }
      ]
    },
    {
      "cell_type": "markdown",
      "source": [
        "# Compare GIR dan Data\n",
        "\n",
        "Inputan data dengan Latitude dan Longitude untuk menghitung hasil GIR dengan rumus Euclidean sebagai cara mencari jarak dari lokasi Tarakan untuk mencari K nya."
      ],
      "metadata": {
        "id": "SWTsZZ99JUSy"
      }
    },
    {
      "cell_type": "code",
      "source": [
        "def euclidean_distance(lat1, lon1, lat2, lon2):\n",
        "    return np.sqrt((lat1 - lat2)**2 + (lon1 - lon2)**2)\n",
        "\n",
        "for index_i, row_i in df.iterrows():\n",
        "    for index_j, row_j in df.loc[index_i+1:].iterrows():\n",
        "        distance = euclidean_distance(row_i['Latitude'], row_i['Longitude'],\n",
        "                                      row_j['Latitude'], row_j['Longitude'])\n",
        "        print(f\"Euclidean distance between {row_i['Daerah']} and {row_j['Daerah']}: {distance}\")"
      ],
      "metadata": {
        "id": "jl0GRS5IJpnF",
        "colab": {
          "base_uri": "https://localhost:8080/"
        },
        "outputId": "a94c030c-ffed-4618-c53b-0b2cf214db17"
      },
      "execution_count": 302,
      "outputs": [
        {
          "output_type": "stream",
          "name": "stdout",
          "text": [
            "Euclidean distance between Tarakan and Bulungan: 268.24036412051953\n",
            "Euclidean distance between Tarakan and Tanatidung: 268.25460025643184\n",
            "Euclidean distance between Bulungan and Tanatidung: 0.2192082304012567\n"
          ]
        }
      ]
    },
    {
      "cell_type": "markdown",
      "source": [
        "# Partisi Data\n",
        "\n",
        "1. Train Test Data\n",
        "\n",
        "    Membagi data menjadi data training dan data testing. Data dibagi menjadi 80 : 20 dengan komposisi 80 persen Data Training dengan data testing 20 persen. random state untuk reproducibility 42."
      ],
      "metadata": {
        "id": "AXABxoGj2rkH"
      }
    },
    {
      "cell_type": "code",
      "source": [
        "np.random.seed(80)"
      ],
      "metadata": {
        "id": "R70ha0_V29r4"
      },
      "execution_count": 303,
      "outputs": []
    },
    {
      "cell_type": "markdown",
      "source": [
        "Melakukan random pemisahan data"
      ],
      "metadata": {
        "id": "Ml6UNyHR6-25"
      }
    },
    {
      "cell_type": "code",
      "source": [
        "indices = np.random.permutation(df.index)"
      ],
      "metadata": {
        "id": "H1H-OcKSd03F"
      },
      "execution_count": 304,
      "outputs": []
    },
    {
      "cell_type": "markdown",
      "source": [
        "Mengatur jumlah data training sebanyak 80 persen dari data keseluruhan."
      ],
      "metadata": {
        "id": "rBOSYMTb7Xdo"
      }
    },
    {
      "cell_type": "code",
      "source": [
        "train_size = int(0.8 * len(df))"
      ],
      "metadata": {
        "id": "w48bmPUK7TTA"
      },
      "execution_count": 305,
      "outputs": []
    },
    {
      "cell_type": "markdown",
      "source": [
        "Memasukkan data kedalam proses training dan testing data"
      ],
      "metadata": {
        "id": "jVcressw7N4r"
      }
    },
    {
      "cell_type": "code",
      "source": [
        "train_indices, test_indices = indices[:train_size], indices[train_size:]"
      ],
      "metadata": {
        "id": "MTj_sxFb72RP"
      },
      "execution_count": 306,
      "outputs": []
    },
    {
      "cell_type": "markdown",
      "source": [
        "Membuat Dataframes untuk training dan testing data"
      ],
      "metadata": {
        "id": "HSbK-ce_7-sd"
      }
    },
    {
      "cell_type": "code",
      "source": [
        "train_df, test_df = df.loc[train_indices], df.loc[test_indices]"
      ],
      "metadata": {
        "id": "DiaUB0HT8Lwh"
      },
      "execution_count": 307,
      "outputs": []
    },
    {
      "cell_type": "markdown",
      "source": [
        "2. K-Fold Cross Validation\n",
        "\n",
        "    K-fold adalah salah satu metode Cross Validation yang populer dengan melipat data sebanyak K dan mengulangi (men-iterasi) experimennya sebanyak K juga."
      ],
      "metadata": {
        "id": "Igsha5gPfaXS"
      }
    },
    {
      "cell_type": "code",
      "source": [
        "k_folds = 3\n",
        "fold_indices = np.array_split(indices, k_folds)"
      ],
      "metadata": {
        "id": "W5_0hm3M9k-D"
      },
      "execution_count": 325,
      "outputs": []
    },
    {
      "cell_type": "code",
      "source": [
        "for fold in range(k_folds):\n",
        "\n",
        "    test_indices = fold_indices[fold]\n",
        "    train_indices = np.concatenate([fold_indices[i] for i in range(k_folds) if i != fold])\n",
        "\n",
        "    train_df, test_df = df.loc[train_indices], df.loc[test_indices]"
      ],
      "metadata": {
        "id": "H9r4zc4A94Fv"
      },
      "execution_count": 326,
      "outputs": []
    },
    {
      "cell_type": "markdown",
      "source": [
        "Menampilkan hasil training dan testing data"
      ],
      "metadata": {
        "id": "yyZkg3TY8c9e"
      }
    },
    {
      "cell_type": "code",
      "source": [
        "    print(f\"\\nFold {fold + 1}:\")\n",
        "    print(\"Training Set:\")\n",
        "    print(train_df)\n",
        "    print(\"\\nTesting Set:\")\n",
        "    print(test_df)"
      ],
      "metadata": {
        "colab": {
          "base_uri": "https://localhost:8080/"
        },
        "id": "57OhbtEq-Y2E",
        "outputId": "adbf4acf-aa2b-4e42-c408-63d0760996e8"
      },
      "execution_count": 327,
      "outputs": [
        {
          "output_type": "stream",
          "name": "stdout",
          "text": [
            "\n",
            "Fold 3:\n",
            "Training Set:\n",
            "       Daerah  Tps    Dpt  cadangan_Dpt  Jumlah_Suara  Latitude  Longitude  \\\n",
            "1    Bulungan  436  95633          2112         97745  1.000000   0.999946   \n",
            "2  Tanatidung   73  14968           330         15298  0.620392   1.000000   \n",
            "\n",
            "   Target_Value  \n",
            "1      0.866176  \n",
            "2      0.601115  \n",
            "\n",
            "Testing Set:\n",
            "    Daerah  Tps     Dpt  cadangan_Dpt  Jumlah_Suara  Latitude  Longitude  \\\n",
            "0  Tarakan  628  154264          3335        157599       0.0        0.0   \n",
            "\n",
            "   Target_Value  \n",
            "0      0.058084  \n"
          ]
        }
      ]
    },
    {
      "cell_type": "markdown",
      "source": [
        "# Normalisasi Data\n",
        "Memproses Data yang mengubah nilai-nilai dalam dataset menjadi skala yang seragam atau dalam rentang tertentu untuk mencapai metode KNN. Menggunakan Min-Max Scalling."
      ],
      "metadata": {
        "id": "0jRLASEb_V8h"
      }
    },
    {
      "cell_type": "code",
      "source": [
        "def min_max_scaling(feature):\n",
        "    min_val = np.min(feature)\n",
        "    max_val = np.max(feature)\n",
        "    scaled_feature = (feature - min_val) / (max_val - min_val)\n",
        "    return scaled_feature"
      ],
      "metadata": {
        "id": "R4AB5t_TBEUf"
      },
      "execution_count": 311,
      "outputs": []
    },
    {
      "cell_type": "code",
      "source": [
        "features_to_normalize = ['Latitude', 'Longitude']"
      ],
      "metadata": {
        "id": "0a2tItSxClDH"
      },
      "execution_count": 312,
      "outputs": []
    },
    {
      "cell_type": "code",
      "source": [
        "for feature in features_to_normalize:\n",
        "    df[feature] = min_max_scaling(df[feature])"
      ],
      "metadata": {
        "id": "W7G5UPoiCpax"
      },
      "execution_count": 313,
      "outputs": []
    },
    {
      "cell_type": "code",
      "source": [
        "print(\"Normalized Data:\")\n",
        "print(df)"
      ],
      "metadata": {
        "colab": {
          "base_uri": "https://localhost:8080/"
        },
        "id": "pnIrpBYXCu7u",
        "outputId": "784244e9-69b9-4113-860a-28f949605f25"
      },
      "execution_count": 314,
      "outputs": [
        {
          "output_type": "stream",
          "name": "stdout",
          "text": [
            "Normalized Data:\n",
            "       Daerah  Tps     Dpt  cadangan_Dpt  Jumlah_Suara  Latitude  Longitude  \\\n",
            "0     Tarakan  628  154264          3335        157599  0.000000   0.000000   \n",
            "1    Bulungan  436   95633          2112         97745  1.000000   0.999946   \n",
            "2  Tanatidung   73   14968           330         15298  0.620392   1.000000   \n",
            "\n",
            "   Target_Value  \n",
            "0      0.058084  \n",
            "1      0.866176  \n",
            "2      0.601115  \n"
          ]
        }
      ]
    },
    {
      "cell_type": "markdown",
      "source": [
        "# Model KNN\n",
        "\n",
        "Tipe algoritma pembelajaran berbasis instan, yang berarti modelnya tidak dilatih secara eksplisit. Sebaliknya, saat melakukan prediksi, algoritma ini mencari k-neighbors terdekat dalam ruang fitur dan mengambil mayoritas label atau nilai dari tetangga tersebut untuk memprediksi label atau nilai yang sesuai untuk instan baru."
      ],
      "metadata": {
        "id": "banxRexvEJBU"
      }
    },
    {
      "cell_type": "code",
      "source": [
        "def knn(train_data, test_point, k):\n",
        "    distances = []\n",
        "\n",
        "    for index, row in train_data.iterrows():\n",
        "        train_point = np.array([row['Latitude'], row['Longitude']])\n",
        "        dist = euclidean_distance(test_point[0], test_point[1], train_point[0], train_point[1])\n",
        "        distances.append((index, dist))\n",
        "\n",
        "    distances.sort(key=lambda x: x[1])\n",
        "    neighbors = distances[:k]\n",
        "\n",
        "    class_counts = {}\n",
        "    for neighbor in neighbors:\n",
        "        label = train_data.loc[neighbor[0], 'Target_Value']\n",
        "        if label in class_counts:\n",
        "            class_counts[label] += 1\n",
        "        else:\n",
        "            class_counts[label] = 1\n",
        "\n",
        "    majority_label = max(class_counts, key=class_counts.get)\n",
        "    return majority_label"
      ],
      "metadata": {
        "id": "7Ka5LZqkS1oY"
      },
      "execution_count": 315,
      "outputs": []
    },
    {
      "cell_type": "code",
      "source": [
        "def train_knn(train_data, k):\n",
        "    def predict(test_point):\n",
        "        return knn(train_data, test_point, k)\n",
        "\n",
        "    return predict"
      ],
      "metadata": {
        "id": "VIG_Dqx2U7YU"
      },
      "execution_count": 316,
      "outputs": []
    },
    {
      "cell_type": "code",
      "source": [
        "k_value = 3\n",
        "test_point = np.array([0.3, 0.9])\n",
        "knn_model = train_knn(train_df, k_value)\n",
        "predicted_label = knn_model(test_point)\n",
        "print(f\"Predicted Label for the test point: {predicted_label}\")"
      ],
      "metadata": {
        "colab": {
          "base_uri": "https://localhost:8080/"
        },
        "id": "UD0JNfxGVCi4",
        "outputId": "5b6edec6-2456-4bac-9ca9-6ce1ff3255c4"
      },
      "execution_count": 329,
      "outputs": [
        {
          "output_type": "stream",
          "name": "stdout",
          "text": [
            "Predicted Label for the test point: 0.6011150117432088\n"
          ]
        }
      ]
    },
    {
      "cell_type": "code",
      "source": [],
      "metadata": {
        "colab": {
          "base_uri": "https://localhost:8080/"
        },
        "id": "slTZ9720WnFD",
        "outputId": "9e993bb1-3ce5-4fd5-d755-2db4ec6e147f"
      },
      "execution_count": 318,
      "outputs": [
        {
          "output_type": "stream",
          "name": "stdout",
          "text": [
            "Accuracy: 0.0\n",
            "Precision: 0\n",
            "Recall: 0\n",
            "F1 Score: 0\n"
          ]
        }
      ]
    }
  ]
}